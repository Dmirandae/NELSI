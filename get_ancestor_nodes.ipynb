{
 "cells": [
  {
   "cell_type": "code",
   "execution_count": 2,
   "metadata": {
    "collapsed": false
   },
   "outputs": [],
   "source": [
    "library(NELSI)"
   ]
  },
  {
   "cell_type": "code",
   "execution_count": 79,
   "metadata": {
    "collapsed": false
   },
   "outputs": [
    {
     "data": {
      "text/html": [
       "<strong>pdf:</strong> 2"
      ],
      "text/latex": [
       "\\textbf{pdf:} 2"
      ],
      "text/markdown": [
       "**pdf:** 2"
      ],
      "text/plain": [
       "pdf \n",
       "  2 "
      ]
     },
     "execution_count": 79,
     "metadata": {},
     "output_type": "execute_result"
    }
   ],
   "source": [
    "set.seed(09786)\n",
    "tr <- rtree(10)\n",
    "pdf('tr.pdf')\n",
    "plot(tr, show.tip.label = F)\n",
    "nodelabels()\n",
    "edgelabels()\n",
    "tiplabels()\n",
    "dev.off()"
   ]
  },
  {
   "cell_type": "code",
   "execution_count": 76,
   "metadata": {
    "collapsed": false
   },
   "outputs": [],
   "source": [
    "get.ancestor.nodes.branches <- function(tr, target_node){\n",
    "    root_node <- unique(tr$edge[!(tr$edge[, 1] %in% tr$edge[, 2]), 1])\n",
    "    all_tips <- tr$edge[!(tr$edge[, 2] %in% tr$edge[, 1]), 2]\n",
    "    ancestors_nodes <- target_node\n",
    "    ancestors_branches <- vector()\n",
    "    while(!(root_node %in% ancestors_nodes)){\n",
    "        matches <- tr$edge[, 2] == ancestors_nodes[length(ancestors_nodes)]\n",
    "        ancestors_nodes <- c(ancestors_nodes, tr$edge[matches, 1])\n",
    "        ancestors_branches <- c(ancestors_branches, which(matches))\n",
    "    }\n",
    "    return(list(ancestor.nodes = ancestors_nodes, ancestor.branches = ancestors_branches))\n",
    "}\n",
    "\n",
    "get.descending.nodes.branches <- function(tr, target.node){\n",
    "    root_node <- unique(tr$edge[!(tr$edge[, 1] %in% tr$edge[, 2]), 1])\n",
    "    all_tips <- tr$edge[!(tr$edge[, 2] %in% tr$edge[, 1]), 2]\n",
    "    descendant_nodes <- target_node \n",
    "    descendant_branches <- vector()\n",
    "    nodes_temp <- target_node\n",
    "    while(!all(nodes_temp %in% all_tips)){\n",
    "        matches <- tr$edge[, 1] %in% nodes_temp\n",
    "        nodes_temp <- tr$edge[matches, 2]\n",
    "        descendant_nodes <- c(descendant_nodes, nodes_temp)\n",
    "        descendant_branches <- c(descendant_branches, which(matches))\n",
    "    }\n",
    "    return(list(descending.nodes = descendant_nodes, descending.branches = descendant_branches))\n",
    "}"
   ]
  },
  {
   "cell_type": "code",
   "execution_count": 77,
   "metadata": {
    "collapsed": false
   },
   "outputs": [
    {
     "data": {
      "text/html": [
       "<dl>\n",
       "\t<dt>$ancestor.nodes</dt>\n",
       "\t\t<dd><ol class=list-inline>\n",
       "\t<li>15</li>\n",
       "\t<li>11</li>\n",
       "</ol>\n",
       "</dd>\n",
       "\t<dt>$ancestor.branches</dt>\n",
       "\t\t<dd>8</dd>\n",
       "</dl>\n"
      ],
      "text/latex": [
       "\\begin{description}\n",
       "\\item[\\$ancestor.nodes] \\begin{enumerate*}\n",
       "\\item 15\n",
       "\\item 11\n",
       "\\end{enumerate*}\n",
       "\n",
       "\\item[\\$ancestor.branches] 8\n",
       "\\end{description}\n"
      ],
      "text/markdown": [
       "$ancestor.nodes\n",
       ":   1. 15\n",
       "2. 11\n",
       "\n",
       "\n",
       "\n",
       "$ancestor.branches\n",
       ":   8\n",
       "\n",
       "\n"
      ],
      "text/plain": [
       "$ancestor.nodes\n",
       "[1] 15 11\n",
       "\n",
       "$ancestor.branches\n",
       "[1] 8\n"
      ]
     },
     "execution_count": 77,
     "metadata": {},
     "output_type": "execute_result"
    }
   ],
   "source": [
    "target_node <- 15\n",
    "\n",
    "get.ancestor.nodes.branches(tr, 15)"
   ]
  },
  {
   "cell_type": "code",
   "execution_count": 78,
   "metadata": {
    "collapsed": false
   },
   "outputs": [
    {
     "data": {
      "text/html": [
       "<dl>\n",
       "\t<dt>$descending.nodes</dt>\n",
       "\t\t<dd><ol class=list-inline>\n",
       "\t<li>15</li>\n",
       "\t<li>16</li>\n",
       "\t<li>18</li>\n",
       "\t<li>5</li>\n",
       "\t<li>17</li>\n",
       "\t<li>19</li>\n",
       "\t<li>10</li>\n",
       "\t<li>6</li>\n",
       "\t<li>7</li>\n",
       "\t<li>8</li>\n",
       "\t<li>9</li>\n",
       "</ol>\n",
       "</dd>\n",
       "\t<dt>$descending.branches</dt>\n",
       "\t\t<dd><ol class=list-inline>\n",
       "\t<li>9</li>\n",
       "\t<li>14</li>\n",
       "\t<li>10</li>\n",
       "\t<li>11</li>\n",
       "\t<li>15</li>\n",
       "\t<li>18</li>\n",
       "\t<li>12</li>\n",
       "\t<li>13</li>\n",
       "\t<li>16</li>\n",
       "\t<li>17</li>\n",
       "</ol>\n",
       "</dd>\n",
       "</dl>\n"
      ],
      "text/latex": [
       "\\begin{description}\n",
       "\\item[\\$descending.nodes] \\begin{enumerate*}\n",
       "\\item 15\n",
       "\\item 16\n",
       "\\item 18\n",
       "\\item 5\n",
       "\\item 17\n",
       "\\item 19\n",
       "\\item 10\n",
       "\\item 6\n",
       "\\item 7\n",
       "\\item 8\n",
       "\\item 9\n",
       "\\end{enumerate*}\n",
       "\n",
       "\\item[\\$descending.branches] \\begin{enumerate*}\n",
       "\\item 9\n",
       "\\item 14\n",
       "\\item 10\n",
       "\\item 11\n",
       "\\item 15\n",
       "\\item 18\n",
       "\\item 12\n",
       "\\item 13\n",
       "\\item 16\n",
       "\\item 17\n",
       "\\end{enumerate*}\n",
       "\n",
       "\\end{description}\n"
      ],
      "text/markdown": [
       "$descending.nodes\n",
       ":   1. 15\n",
       "2. 16\n",
       "3. 18\n",
       "4. 5\n",
       "5. 17\n",
       "6. 19\n",
       "7. 10\n",
       "8. 6\n",
       "9. 7\n",
       "10. 8\n",
       "11. 9\n",
       "\n",
       "\n",
       "\n",
       "$descending.branches\n",
       ":   1. 9\n",
       "2. 14\n",
       "3. 10\n",
       "4. 11\n",
       "5. 15\n",
       "6. 18\n",
       "7. 12\n",
       "8. 13\n",
       "9. 16\n",
       "10. 17\n",
       "\n",
       "\n",
       "\n",
       "\n",
       "\n"
      ],
      "text/plain": [
       "$descending.nodes\n",
       " [1] 15 16 18  5 17 19 10  6  7  8  9\n",
       "\n",
       "$descending.branches\n",
       " [1]  9 14 10 11 15 18 12 13 16 17\n"
      ]
     },
     "execution_count": 78,
     "metadata": {},
     "output_type": "execute_result"
    }
   ],
   "source": [
    "get.descending.nodes.branches(tr, 15)"
   ]
  },
  {
   "cell_type": "code",
   "execution_count": null,
   "metadata": {
    "collapsed": true
   },
   "outputs": [],
   "source": []
  },
  {
   "cell_type": "code",
   "execution_count": null,
   "metadata": {
    "collapsed": true
   },
   "outputs": [],
   "source": []
  }
 ],
 "metadata": {
  "kernelspec": {
   "display_name": "R",
   "language": "R",
   "name": "ir"
  },
  "language_info": {
   "codemirror_mode": "r",
   "file_extension": ".r",
   "mimetype": "text/x-r-source",
   "name": "R",
   "pygments_lexer": "r",
   "version": "3.2.2"
  }
 },
 "nbformat": 4,
 "nbformat_minor": 0
}
