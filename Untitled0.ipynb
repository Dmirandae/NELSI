{
 "metadata": {
  "name": ""
 },
 "nbformat": 3,
 "nbformat_minor": 0,
 "worksheets": [
  {
   "cells": [
    {
     "cell_type": "code",
     "collapsed": false,
     "input": [
      "import pandas as pd\n",
      "import numpy as np\n",
      "import sys\n",
      "import os\n",
      "import matplotlib.pylab as plt"
     ],
     "language": "python",
     "metadata": {},
     "outputs": [],
     "prompt_number": 20
    },
    {
     "cell_type": "code",
     "collapsed": false,
     "input": [
      "import Bio\n",
      "from Bio import AlignIO"
     ],
     "language": "python",
     "metadata": {},
     "outputs": [],
     "prompt_number": 22
    },
    {
     "cell_type": "code",
     "collapsed": false,
     "input": [
      "os.chdir(\"/Users/sebastianducheneMacBook/Desktop/test_data/\")\n"
     ],
     "language": "python",
     "metadata": {},
     "outputs": [],
     "prompt_number": 11
    },
    {
     "cell_type": "code",
     "collapsed": false,
     "input": [
      "os.listdir(\".\")\n"
     ],
     "language": "python",
     "metadata": {},
     "outputs": [
      {
       "metadata": {},
       "output_type": "pyout",
       "prompt_number": 12,
       "text": [
        "['.DS_Store',\n",
        " '2base.t',\n",
        " 'all_concat.phy',\n",
        " 'all_concat_2.phy',\n",
        " 'all_concat_3.phy',\n",
        " 'all_concat_fix.phy',\n",
        " 'all_concat_format.phy',\n",
        " 'all_concat_mod.phy',\n",
        " 'baseml',\n",
        " 'baseml2.ctl',\n",
        " 'fix_seqs.R',\n",
        " 'fix_seqs.R~',\n",
        " 'in.basemlg',\n",
        " 'no_eq.tree',\n",
        " 'rst',\n",
        " 'rst1',\n",
        " 'rub',\n",
        " 'seq.phy',\n",
        " 'seq.tree',\n",
        " 'seq_out']"
       ]
      }
     ],
     "prompt_number": 12
    },
    {
     "cell_type": "code",
     "collapsed": false,
     "input": [
      "f_dat = open(\"all_concat_2.phy\", 'r')"
     ],
     "language": "python",
     "metadata": {},
     "outputs": [],
     "prompt_number": 13
    },
    {
     "cell_type": "code",
     "collapsed": false,
     "input": [
      "f_lines = f_dat.readlines()\n"
     ],
     "language": "python",
     "metadata": {},
     "outputs": [],
     "prompt_number": 14
    },
    {
     "cell_type": "code",
     "collapsed": false,
     "input": [],
     "language": "python",
     "metadata": {},
     "outputs": [],
     "prompt_number": 111
    },
    {
     "cell_type": "code",
     "collapsed": false,
     "input": [
      "f_dat.close()"
     ],
     "language": "python",
     "metadata": {},
     "outputs": [],
     "prompt_number": 16
    },
    {
     "cell_type": "code",
     "collapsed": false,
     "input": [
      "len(f_lines)"
     ],
     "language": "python",
     "metadata": {},
     "outputs": [
      {
       "metadata": {},
       "output_type": "pyout",
       "prompt_number": 18,
       "text": [
        "615201"
       ]
      }
     ],
     "prompt_number": 18
    },
    {
     "cell_type": "code",
     "collapsed": false,
     "input": [
      "dat1 = array(open('all_concat_2.phy', 'r').readlines())"
     ],
     "language": "python",
     "metadata": {},
     "outputs": [],
     "prompt_number": 89
    },
    {
     "cell_type": "code",
     "collapsed": false,
     "input": [
      "import re"
     ],
     "language": "python",
     "metadata": {},
     "outputs": [],
     "prompt_number": 40
    },
    {
     "cell_type": "code",
     "collapsed": false,
     "input": [
      "dat1[0:10]"
     ],
     "language": "python",
     "metadata": {},
     "outputs": [
      {
       "metadata": {},
       "output_type": "pyout",
       "prompt_number": 90,
       "text": [
        "array([' 29 1218087\\n', '\\n',\n",
        "       'New  ATGACCAGCT TGAAACGGTC ACAGACAGAA AGGCCCCTTG CCACTGACAG GGCCTCTGTT\\n',\n",
        "       'Sor  ATGACCAGCT TGAAACGGTC ACAGACGGAA AGGCCGGTTG CTACCGAGAG AGCCTCTGTA\\n',\n",
        "       'Gor  ATGACCAGCT TGAAACGGTC ACAGACAGAA AGGCCTCTTG CCACTGACAG GGCCTCTGTT\\n',\n",
        "       'Oto  ATGACCAGCT TGAAACGGTC ACAAACAGAA AGGCCTGTTG CCACTGACAG GGCCTCGGTT\\n',\n",
        "       'Spe  ATGACCAGCT TGAAACGGTC ACAGACAGAA AGGCCTGTGG CCACTGACAG GACCTCCGTT\\n',\n",
        "       'Ory  ATGACCAGCC TGACACGGTC ACAGACGGAA AGGCCTGTGG CCACTGACAG NNNNNNNNNN\\n',\n",
        "       'Dip  ATGACAAGCT TGAAACGATC ACAGACAGAA AGGCCTGTTG CCACTGATAG GACCTCTGTT\\n',\n",
        "       'Tur  ---------- ---------- ---------- ---------- ---------- ----------\\n'], \n",
        "      dtype='|S76')"
       ]
      }
     ],
     "prompt_number": 90
    },
    {
     "cell_type": "code",
     "collapsed": false,
     "input": [
      "dat_sub = array([re.sub(\"\\n\", \"\", i) for i in dat1])"
     ],
     "language": "python",
     "metadata": {},
     "outputs": [],
     "prompt_number": 105
    },
    {
     "cell_type": "code",
     "collapsed": false,
     "input": [
      "dat_no_retkey = dat_sub[np.where(dat_sub!='')] "
     ],
     "language": "python",
     "metadata": {},
     "outputs": [],
     "prompt_number": 106
    },
    {
     "cell_type": "code",
     "collapsed": false,
     "input": [
      "dat_no_retkey[0:50]"
     ],
     "language": "python",
     "metadata": {},
     "outputs": [
      {
       "metadata": {},
       "output_type": "pyout",
       "prompt_number": 108,
       "text": [
        "array([' 29 1218087',\n",
        "       'New  ATGACCAGCT TGAAACGGTC ACAGACAGAA AGGCCCCTTG CCACTGACAG GGCCTCTGTT',\n",
        "       'Sor  ATGACCAGCT TGAAACGGTC ACAGACGGAA AGGCCGGTTG CTACCGAGAG AGCCTCTGTA',\n",
        "       'Gor  ATGACCAGCT TGAAACGGTC ACAGACAGAA AGGCCTCTTG CCACTGACAG GGCCTCTGTT',\n",
        "       'Oto  ATGACCAGCT TGAAACGGTC ACAAACAGAA AGGCCTGTTG CCACTGACAG GGCCTCGGTT',\n",
        "       'Spe  ATGACCAGCT TGAAACGGTC ACAGACAGAA AGGCCTGTGG CCACTGACAG GACCTCCGTT',\n",
        "       'Ory  ATGACCAGCC TGACACGGTC ACAGACGGAA AGGCCTGTGG CCACTGACAG NNNNNNNNNN',\n",
        "       'Dip  ATGACAAGCT TGAAACGATC ACAGACAGAA AGGCCTGTTG CCACTGATAG GACCTCTGTT',\n",
        "       'Tur  ---------- ---------- ---------- ---------- ---------- ----------',\n",
        "       'Mic  ATGACCAGCT TGAAACGGTC GCAGACGGAA AGGCCTGTTG CCACCGACAG GGCCTCGGTT',\n",
        "       'Eri  ---------- ---------- ---------- ---------- ---------- ----------',\n",
        "       'Och  ATGACCAGCC TGAAACGGTC ACAGACCGAG AGACCCGTGG CCACCGACAG GGCCTCCATG',\n",
        "       'Lox  ATGACCAGCT TGAAACGGTC GCAGACAGAA AGGCCCGTTG CCACCGAAAG GGCCTCCGTT',\n",
        "       'Fel  ---------- ---------- ---------- ---------- ---------- ----------',\n",
        "       'Tar  ATGACCAGCT TGAAACGATC GCAGACAGAA AGGCCCATTG CCACTGACAG GGCCTCTGTT',\n",
        "       'Pro  ---------- ---------- ---------- ---------- ---------- ----------',\n",
        "       'Ech  ATGACCAGCC TGAAGCGGTC GCAGACGGAA AGGCCCGTGG CCAGCGAGCG GGCCTCAGGG',\n",
        "       'Das  ATGACCAGCT TGAAAAGGTC GCAGACGGAA AGGCCTGTTT CCACGGAGAG GGCCTCCATC',\n",
        "       'Mus  ATGACCAGTT TGAAGCGGTC GCAGACCGAA AGACCTGTCA CCGCTGACAG AGCCTCTGTT',\n",
        "       'Rat  ATGACCAGCT TGAAGAGGTC GCAGACCGAA AGGCCTGTCA CTGCTGACAG AGCCTCTGTT',\n",
        "       'Cav  ATGACCAGCT TGAAACGGTC ACAGACAGAA AGGCCTGTTG CCACTGACAG GGCCTCTGTT',\n",
        "       'Cho  ATGACCAGCT TAAAAAGATC CCAGACAGAA AGGCCTGTTT CCAGCGAGAG GGCCTCCATT',\n",
        "       'Bos  ---------- ---------- ---------- ---CCGGTTG CCACTGAAAG GGCATCCATT',\n",
        "       'Cal  ATGACCAGCT TGAAACGGTC ACAGACAGAA AGGCCTCTTG CCACTGACAG GACCTCTGTT',\n",
        "       'Pon  ATGACCAGCT TGAAACGGTC ACAGACAGAA AGGCCTCTTG CCACTGACAG GGCCTCTGTT',\n",
        "       'Hom  ATGACCAGCT TGAAACGGTC ACAGACAGAA AGGCCTCTTG CCACTGACAG GGCCTCTGTT',\n",
        "       'Pan  ATGACCAGCT TGAAACGGTC ACAGACAGAA AGGCCTCTTG CCACTGACAG GGCCTCTGTT',\n",
        "       'Sus  ATGACCAGCT TGAAACGGTC ACAGACGGAG AGACCGGTTG CCACTGAAAG GGCGTCTGTT',\n",
        "       'Vic  ATGACCAGCT TGAAACGGTC GCAGACAGAG AGGCCGGTTG CCACTGACAG GGCGTCGGTG',\n",
        "       'Can  ATGACCAGCT TGAAACGGTC GCAGACAGAG CGGCCTGCTG CCCCCGAAAG GGCCTCGGTT',\n",
        "       '          GTTGGCACAG ACGGCACCC- --CCAAAGTC CACACTGATG ATTTCTACAT GCGGCGCTTC',\n",
        "       '          GTTGGCCCAG ATGGCGCTC- --CCAAAGTA CACACCGACG ACTTCTACAT GCGGCGCTTC',\n",
        "       '          GTTGGCACAG ACNGCACCC- --CCAAAGTC CACACTGATG ATTTCTACAT GCGGCGCTTC',\n",
        "       '          GTTGGCACAG ACGGCACCC- --CCAAAGTC CACACCGATG ACTTCTACAT GCGACGCTTC',\n",
        "       '          GTTGGCACAG ATGGCACCC- --CCAAAGTC CATACTGATG ACTTCTACAT GCGCCGTTTC',\n",
        "       '          NNNNNNNNNN NNNNNNNNN- --NNNNNNNN NNNNNNNNNN NNNNNNNNNN NNNNNNNNNN',\n",
        "       '          GTTGGCACGG ATGGCCCTC- --CCAAGGTC CACACGGATG ATTTCTACAT GCGCCGCTTC',\n",
        "       '          ---------- ---------- ---------- ---------- --------AT GCGACGCTTC',\n",
        "       '          GTCGGCACAG ATGGCGCCC- --CCAAAGTG CACACTGACG ACTTCTACAT GCGACGCTTC',\n",
        "       '          ---------- ---------- ---------- ---------- ---------- ----------',\n",
        "       '          GTCGGCGCAG ATGGCGCCC- --CCAAAGTC CACACCGATG ACTTCTACAT GCGGCGCTTC',\n",
        "       '          GTGGGAACAG ATGGCACTC- --CCAAAGTG CACTCTGATG ACTTCTACAT GCGACGCTTC',\n",
        "       '          ---------- ---------- ---------- ---------- ---------- ----------',\n",
        "       '          GTCGGCACAG ACAGCACCC- --CCAAGGTC CACACTGATG ACTTCTACAT GCGGCGCTTC',\n",
        "       '          ---------- ---------- ---------- ---------- ---------- ----------',\n",
        "       '          GTGGGCGCAG ATGGAGCTC- --CCAAAGTC CACACAGACG ACTTCTACAT GCGGCGCTTC',\n",
        "       '          GTCGGACAAG ATGGCACTC- --CCAAAGTC CACACCGATG ACTTCTACAT GCGGCGTTTC',\n",
        "       '          GTCAGCACAG ATGGCGCCC- --CCAAAGTC CACACCGATG ACTTCTACAT GCGTCGCTTC',\n",
        "       '          GTCAGCACAG ATGGCACCC- --CCAAAGTT CACACTGATG ATTTCTACAT GCGTCGCTTC',\n",
        "       '          GTTGGCACAG ATGGTACCC- --CCAAAGTC CACACTGATG ATTTCTACAT GCGTCGCTTC'], \n",
        "      dtype='|S75')"
       ]
      }
     ],
     "prompt_number": 108
    },
    {
     "cell_type": "code",
     "collapsed": false,
     "input": [
      "a = array(['a', 'b', 'f', 'r'])\n",
      "b = array(['3', '4', '3', '2', '2'])"
     ],
     "language": "python",
     "metadata": {},
     "outputs": [],
     "prompt_number": 110
    },
    {
     "cell_type": "code",
     "collapsed": false,
     "input": [
      "a[0:2]"
     ],
     "language": "python",
     "metadata": {},
     "outputs": [
      {
       "metadata": {},
       "output_type": "pyout",
       "prompt_number": 114,
       "text": [
        "array(['a', 'b'], \n",
        "      dtype='|S1')"
       ]
      }
     ],
     "prompt_number": 114
    },
    {
     "cell_type": "code",
     "collapsed": false,
     "input": [
      "def rec_sum(li):\n",
      "    if len(li) == 1:\n",
      "        return li[0]\n",
      "    else:\n",
      "        return li[0] + rec_sum(li[1:])"
     ],
     "language": "python",
     "metadata": {},
     "outputs": [],
     "prompt_number": 125
    },
    {
     "cell_type": "code",
     "collapsed": false,
     "input": [
      "rec_sum([4])\n"
     ],
     "language": "python",
     "metadata": {},
     "outputs": [
      {
       "metadata": {},
       "output_type": "pyout",
       "prompt_number": 126,
       "text": [
        "4"
       ]
      }
     ],
     "prompt_number": 126
    },
    {
     "cell_type": "code",
     "collapsed": false,
     "input": [
      "rec_sum([2, 3])"
     ],
     "language": "python",
     "metadata": {},
     "outputs": [
      {
       "metadata": {},
       "output_type": "pyout",
       "prompt_number": 127,
       "text": [
        "5"
       ]
      }
     ],
     "prompt_number": 127
    },
    {
     "cell_type": "code",
     "collapsed": false,
     "input": [],
     "language": "python",
     "metadata": {},
     "outputs": []
    }
   ],
   "metadata": {}
  }
 ]
}